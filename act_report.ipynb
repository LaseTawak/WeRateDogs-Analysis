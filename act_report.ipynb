{
 "cells": [
  {
   "cell_type": "markdown",
   "metadata": {},
   "source": [
    "# Analysis Report\n",
    "### written by: Toluwalase Tawak\n",
    "This report summarises the insights and displays the visualization(s) produced from my wrangling processes carried out on the Twitter Archive data from the @RateDogs account."
   ]
  },
  {
   "cell_type": "markdown",
   "metadata": {},
   "source": [
    "![WeRateDogs](Images/-SBRbLoH_400x400.jpg)"
   ]
  },
  {
   "cell_type": "markdown",
   "metadata": {},
   "source": [
    "## Introduction\n",
    "----------------------------------------\n",
    "For this project, I worked with three dataset provided by Udacity. They each contained different information needed to carry out analysis and reporting.\n",
    "\n",
    "The first dataset was a csv file named twitter_archive_enhanced, it contained information about 2356 tweets and was downloaded manually.\n",
    "\n",
    "The second dataset was a tsv file named image_prediction, a url to the data was provided by udacity server which was I used to programmatically downloaded the file. It contained 2075 predictions classifying dogs by their breeds using pictures provided with tweets.\n",
    "\n",
    "The third dataset, I downloaded manually as txt file containing JSON of format of tweet informations. It contained extra information about tweets like the rewetet count, favorite count recieved for 2357 tweets.\n",
    "\n",
    "The datasets were then assessed visually and programmatically for quality and tidiness issues. These issues wre addressed and corrected, a merge was carried on the three datframes to create one master datset which was then used to carry out investigative analysis."
   ]
  },
  {
   "cell_type": "markdown",
   "metadata": {},
   "source": [
    "## Analysis and Visualisations\n",
    "-------------------------------------"
   ]
  },
  {
   "cell_type": "markdown",
   "metadata": {},
   "source": [
    "![Overall_Correlation](Images/Overall_Correlation.png)\n",
    "* We can see from the chart that there seems to be correlation between some attributes of our data. The strongest correlation can be observed between favourite count and retweet counts.  \n",
    "* We can also see that the date column seems to have a relationship with the favourite count, rating numerator and to a much lesser extent retweet count and length of tweets. "
   ]
  },
  {
   "cell_type": "markdown",
   "metadata": {},
   "source": [
    "![Most_popular_breeds](Images/Most_popular_breeds.png)"
   ]
  },
  {
   "cell_type": "markdown",
   "metadata": {},
   "source": [
    "* The visual above shows us the popularity of breeds or occurrence of breeds rated by the twitter account.\n",
    "* Terriers were the most talked about dogs\n",
    "* Investigation shows that 6 of these breeds are small sized dogs"
   ]
  },
  {
   "cell_type": "markdown",
   "metadata": {},
   "source": [
    "![Top_Rated_Unfiltered](Images/Top_Rated_Unfiltered.png)\n",
    "\n",
    "* The highest rated breed for popular(breeds that occur more than 14 times) breed is the Samoyed. \n",
    "* Golden Retriever which happens to be the most commonly tweeted dog is the second highest rated dog. \n",
    "* 5 of our most common breeds within the time frame of our entire data also happen to be among the Top 10 rated breeds."
   ]
  },
  {
   "cell_type": "markdown",
   "metadata": {},
   "source": [
    "![Average_Favourites_Filtered](Images/Average_Favourites_Filtered.png)"
   ]
  },
  {
   "cell_type": "markdown",
   "metadata": {},
   "source": [
    "![Avg_Retweets_Filtered](Images/Avg_Retweets_Filtered.png)"
   ]
  },
  {
   "cell_type": "markdown",
   "metadata": {},
   "source": [
    "* The French Bulldog and the Cocker Spaniel, small sized dogs, are two of the top 3 popular breeds for twitter users engagemets."
   ]
  },
  {
   "cell_type": "markdown",
   "metadata": {},
   "source": [
    "![WordCloud](Images/WordCloud.png)"
   ]
  },
  {
   "cell_type": "markdown",
   "metadata": {},
   "source": [
    "## Insights\n",
    "--------------------"
   ]
  },
  {
   "cell_type": "markdown",
   "metadata": {},
   "source": [
    "These includes other insights not shown in this summarised report. These can be found in the Jupyter notebook used to carry pou the wrangling and analysis process.\n",
    "\n",
    "1. The handler of the this twitter account like to use the abbreviation \"af\" a lot. WHich means he/she liked to emphasize their description or sentiments for any dog they were rating.\n",
    "2. Of the four different classisfication of dogs, Pupper was the handlers favourite description for dogs. From the 'dogtionary', these dogs are small or young dogs.\n",
    "3. In the time period under consideration, the maximum number of characters for a tweet was 140. Therefore, the handler used a lot of long tweets, between 100 and 140 characters for most of their tweets.\n",
    "4. The handler was very generous with ratings, giving most dogs a numerator 10 or more.\n",
    "5. The two most popular breeds rated, were both Retrievers. If people sent their dog's pictures to be rated, most of the dogs owners who are aware of the account owned Retrievers (Golden and Labrador). If the handler found the pictures on their own, is it easier to find pictures of retrievers than other breeds ?\n",
    "6. It appears the handler has a bias towards the Golden Retriever, as it is also closely the dog with second highest rating for popular dogs. The Labrador Retriever is also in the top 10 for popular dogs with the highest ratings.\n",
    "7. The most popular dogs also had the most total engagements in terms of Favourites and retweets.\n",
    "8. Followers of the accounts seemed to have lots of love for the French Bulldog, Cocker Spaniel and the Samoyed as they were the most popular dogs that received the most likes or retweets on average.\n",
    "9. The Beddington Terrier and Saluki breeds are probably the breed followers of the account liked the most. They received the most total engagements on average even with their lack of popularity. (All though these engagement values could be skewed due to just one of their pictures receiving very very large number of engagements.)"
   ]
  },
  {
   "cell_type": "code",
   "execution_count": 1,
   "metadata": {},
   "outputs": [
    {
     "name": "stdout",
     "output_type": "stream",
     "text": [
      "[NbConvertApp] Converting notebook act_report.ipynb to markdown\n",
      "[NbConvertApp] Writing 5434 bytes to act_report.md\n"
     ]
    }
   ],
   "source": [
    "!jupyter nbconvert --to markdown act_report.ipynb"
   ]
  },
  {
   "cell_type": "code",
   "execution_count": null,
   "metadata": {},
   "outputs": [],
   "source": []
  }
 ],
 "metadata": {
  "kernelspec": {
   "display_name": "Python 3",
   "language": "python",
   "name": "python3"
  },
  "language_info": {
   "codemirror_mode": {
    "name": "ipython",
    "version": 3
   },
   "file_extension": ".py",
   "mimetype": "text/x-python",
   "name": "python",
   "nbconvert_exporter": "python",
   "pygments_lexer": "ipython3",
   "version": "3.6.3"
  }
 },
 "nbformat": 4,
 "nbformat_minor": 2
}
